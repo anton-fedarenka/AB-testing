{
 "cells": [
  {
   "cell_type": "code",
   "execution_count": 8,
   "id": "2199104a-c0e7-4d41-8735-7f184ee5824c",
   "metadata": {},
   "outputs": [
    {
     "data": {
      "text/html": [
       "        <script type=\"text/javascript\">\n",
       "        window.PlotlyConfig = {MathJaxConfig: 'local'};\n",
       "        if (window.MathJax) {MathJax.Hub.Config({SVG: {font: \"STIX-Web\"}});}\n",
       "        if (typeof require !== 'undefined') {\n",
       "        require.undef(\"plotly\");\n",
       "        requirejs.config({\n",
       "            paths: {\n",
       "                'plotly': ['https://cdn.plot.ly/plotly-2.9.0.min']\n",
       "            }\n",
       "        });\n",
       "        require(['plotly'], function(Plotly) {\n",
       "            window._Plotly = Plotly;\n",
       "        });\n",
       "        }\n",
       "        </script>\n",
       "        "
      ]
     },
     "metadata": {},
     "output_type": "display_data"
    }
   ],
   "source": [
    "import numpy as np\n",
    "import scipy as sp\n",
    "import pandas as pd\n",
    "\n",
    "import seaborn as sns\n",
    "import matplotlib.pyplot as plt\n",
    "%matplotlib inline\n",
    "\n",
    "import altair as alt\n",
    "from altair.expr import datum\n",
    "alt.renderers.enable('default')\n",
    "from altair_widgets import interact_with\n",
    "\n",
    "import plotly.offline as py\n",
    "py.init_notebook_mode(connected=True)\n",
    "import plotly.graph_objs as go\n",
    "import plotly.tools as tls\n",
    "import plotly.figure_factory as ff\n",
    "\n",
    "from datetime import datetime\n",
    "from dateutil.relativedelta import relativedelta"
   ]
  },
  {
   "cell_type": "code",
   "execution_count": 20,
   "id": "7c15f790-bc19-4820-ab2a-37db4d04ab65",
   "metadata": {},
   "outputs": [
    {
     "data": {
      "text/html": [
       "<div>\n",
       "<style scoped>\n",
       "    .dataframe tbody tr th:only-of-type {\n",
       "        vertical-align: middle;\n",
       "    }\n",
       "\n",
       "    .dataframe tbody tr th {\n",
       "        vertical-align: top;\n",
       "    }\n",
       "\n",
       "    .dataframe thead th {\n",
       "        text-align: right;\n",
       "    }\n",
       "</style>\n",
       "<table border=\"1\" class=\"dataframe\">\n",
       "  <thead>\n",
       "    <tr style=\"text-align: right;\">\n",
       "      <th></th>\n",
       "      <th>timestamp</th>\n",
       "      <th>group</th>\n",
       "      <th>landing_page</th>\n",
       "      <th>converted</th>\n",
       "    </tr>\n",
       "    <tr>\n",
       "      <th>user_id</th>\n",
       "      <th></th>\n",
       "      <th></th>\n",
       "      <th></th>\n",
       "      <th></th>\n",
       "    </tr>\n",
       "  </thead>\n",
       "  <tbody>\n",
       "    <tr>\n",
       "      <th>851104</th>\n",
       "      <td>2017-01-21 22:11:48.556739</td>\n",
       "      <td>control</td>\n",
       "      <td>old_page</td>\n",
       "      <td>0</td>\n",
       "    </tr>\n",
       "    <tr>\n",
       "      <th>804228</th>\n",
       "      <td>2017-01-12 08:01:45.159739</td>\n",
       "      <td>control</td>\n",
       "      <td>old_page</td>\n",
       "      <td>0</td>\n",
       "    </tr>\n",
       "    <tr>\n",
       "      <th>661590</th>\n",
       "      <td>2017-01-11 16:55:06.154213</td>\n",
       "      <td>treatment</td>\n",
       "      <td>new_page</td>\n",
       "      <td>0</td>\n",
       "    </tr>\n",
       "    <tr>\n",
       "      <th>853541</th>\n",
       "      <td>2017-01-08 18:28:03.143765</td>\n",
       "      <td>treatment</td>\n",
       "      <td>new_page</td>\n",
       "      <td>0</td>\n",
       "    </tr>\n",
       "    <tr>\n",
       "      <th>864975</th>\n",
       "      <td>2017-01-21 01:52:26.210827</td>\n",
       "      <td>control</td>\n",
       "      <td>old_page</td>\n",
       "      <td>1</td>\n",
       "    </tr>\n",
       "    <tr>\n",
       "      <th>...</th>\n",
       "      <td>...</td>\n",
       "      <td>...</td>\n",
       "      <td>...</td>\n",
       "      <td>...</td>\n",
       "    </tr>\n",
       "    <tr>\n",
       "      <th>751197</th>\n",
       "      <td>2017-01-03 22:28:38.630509</td>\n",
       "      <td>control</td>\n",
       "      <td>old_page</td>\n",
       "      <td>0</td>\n",
       "    </tr>\n",
       "    <tr>\n",
       "      <th>945152</th>\n",
       "      <td>2017-01-12 00:51:57.078372</td>\n",
       "      <td>control</td>\n",
       "      <td>old_page</td>\n",
       "      <td>0</td>\n",
       "    </tr>\n",
       "    <tr>\n",
       "      <th>734608</th>\n",
       "      <td>2017-01-22 11:45:03.439544</td>\n",
       "      <td>control</td>\n",
       "      <td>old_page</td>\n",
       "      <td>0</td>\n",
       "    </tr>\n",
       "    <tr>\n",
       "      <th>697314</th>\n",
       "      <td>2017-01-15 01:20:28.957438</td>\n",
       "      <td>control</td>\n",
       "      <td>old_page</td>\n",
       "      <td>0</td>\n",
       "    </tr>\n",
       "    <tr>\n",
       "      <th>715931</th>\n",
       "      <td>2017-01-16 12:40:24.467417</td>\n",
       "      <td>treatment</td>\n",
       "      <td>new_page</td>\n",
       "      <td>0</td>\n",
       "    </tr>\n",
       "  </tbody>\n",
       "</table>\n",
       "<p>294478 rows × 4 columns</p>\n",
       "</div>"
      ],
      "text/plain": [
       "                         timestamp      group landing_page  converted\n",
       "user_id                                                              \n",
       "851104  2017-01-21 22:11:48.556739    control     old_page          0\n",
       "804228  2017-01-12 08:01:45.159739    control     old_page          0\n",
       "661590  2017-01-11 16:55:06.154213  treatment     new_page          0\n",
       "853541  2017-01-08 18:28:03.143765  treatment     new_page          0\n",
       "864975  2017-01-21 01:52:26.210827    control     old_page          1\n",
       "...                            ...        ...          ...        ...\n",
       "751197  2017-01-03 22:28:38.630509    control     old_page          0\n",
       "945152  2017-01-12 00:51:57.078372    control     old_page          0\n",
       "734608  2017-01-22 11:45:03.439544    control     old_page          0\n",
       "697314  2017-01-15 01:20:28.957438    control     old_page          0\n",
       "715931  2017-01-16 12:40:24.467417  treatment     new_page          0\n",
       "\n",
       "[294478 rows x 4 columns]"
      ]
     },
     "execution_count": 20,
     "metadata": {},
     "output_type": "execute_result"
    }
   ],
   "source": [
    "df_test = pd.read_csv('ab_data.csv',parse_dates=['timestamp'], index_col='user_id')\n",
    "df_test"
   ]
  },
  {
   "cell_type": "code",
   "execution_count": 45,
   "id": "4a523a51-f7ec-4762-b615-933a15d525c8",
   "metadata": {},
   "outputs": [
    {
     "name": "stdout",
     "output_type": "stream",
     "text": [
      "<class 'pandas.core.frame.DataFrame'>\n",
      "Int64Index: 294478 entries, 851104 to 715931\n",
      "Data columns (total 4 columns):\n",
      " #   Column        Non-Null Count   Dtype         \n",
      "---  ------        --------------   -----         \n",
      " 0   timestamp     294478 non-null  datetime64[ns]\n",
      " 1   group         294478 non-null  object        \n",
      " 2   landing_page  294478 non-null  object        \n",
      " 3   converted     294478 non-null  int64         \n",
      "dtypes: datetime64[ns](1), int64(1), object(2)\n",
      "memory usage: 19.3+ MB\n"
     ]
    }
   ],
   "source": [
    "df_test.info()"
   ]
  },
  {
   "cell_type": "code",
   "execution_count": 16,
   "id": "4655415d-ecd6-47a8-bb58-a27e63bafe57",
   "metadata": {},
   "outputs": [
    {
     "data": {
      "text/plain": [
       "min   2017-01-02 13:42:05.378582\n",
       "max   2017-01-24 13:41:54.460509\n",
       "Name: timestamp, dtype: datetime64[ns]"
      ]
     },
     "execution_count": 16,
     "metadata": {},
     "output_type": "execute_result"
    }
   ],
   "source": [
    "df_test.timestamp.agg([min,max])"
   ]
  },
  {
   "cell_type": "code",
   "execution_count": 22,
   "id": "5aa3bfb9-44a2-4b36-8ca9-a29dfb853db4",
   "metadata": {},
   "outputs": [
    {
     "data": {
      "text/plain": [
       "timestamp       0\n",
       "group           0\n",
       "landing_page    0\n",
       "converted       0\n",
       "dtype: int64"
      ]
     },
     "execution_count": 22,
     "metadata": {},
     "output_type": "execute_result"
    }
   ],
   "source": [
    "df_test.isna().sum()"
   ]
  },
  {
   "cell_type": "code",
   "execution_count": 51,
   "id": "e2c18ca8-4a35-475e-88fd-6a352442345f",
   "metadata": {},
   "outputs": [
    {
     "data": {
      "text/plain": [
       "group      landing_page\n",
       "treatment  new_page        145311\n",
       "control    old_page        145274\n",
       "treatment  old_page          1965\n",
       "control    new_page          1928\n",
       "dtype: int64"
      ]
     },
     "execution_count": 51,
     "metadata": {},
     "output_type": "execute_result"
    }
   ],
   "source": [
    "df_test[['group','landing_page']].value_counts()"
   ]
  },
  {
   "cell_type": "code",
   "execution_count": 40,
   "id": "8356651c-4866-4571-aafc-b2b197c38446",
   "metadata": {},
   "outputs": [
    {
     "data": {
      "text/html": [
       "<div>\n",
       "<style scoped>\n",
       "    .dataframe tbody tr th:only-of-type {\n",
       "        vertical-align: middle;\n",
       "    }\n",
       "\n",
       "    .dataframe tbody tr th {\n",
       "        vertical-align: top;\n",
       "    }\n",
       "\n",
       "    .dataframe thead th {\n",
       "        text-align: right;\n",
       "    }\n",
       "</style>\n",
       "<table border=\"1\" class=\"dataframe\">\n",
       "  <thead>\n",
       "    <tr style=\"text-align: right;\">\n",
       "      <th></th>\n",
       "      <th></th>\n",
       "      <th>timestamp</th>\n",
       "      <th>converted</th>\n",
       "    </tr>\n",
       "    <tr>\n",
       "      <th>group</th>\n",
       "      <th>landing_page</th>\n",
       "      <th></th>\n",
       "      <th></th>\n",
       "    </tr>\n",
       "  </thead>\n",
       "  <tbody>\n",
       "    <tr>\n",
       "      <th rowspan=\"2\" valign=\"top\">control</th>\n",
       "      <th>new_page</th>\n",
       "      <td>1928</td>\n",
       "      <td>1928</td>\n",
       "    </tr>\n",
       "    <tr>\n",
       "      <th>old_page</th>\n",
       "      <td>145274</td>\n",
       "      <td>145274</td>\n",
       "    </tr>\n",
       "    <tr>\n",
       "      <th rowspan=\"2\" valign=\"top\">treatment</th>\n",
       "      <th>new_page</th>\n",
       "      <td>145311</td>\n",
       "      <td>145311</td>\n",
       "    </tr>\n",
       "    <tr>\n",
       "      <th>old_page</th>\n",
       "      <td>1965</td>\n",
       "      <td>1965</td>\n",
       "    </tr>\n",
       "  </tbody>\n",
       "</table>\n",
       "</div>"
      ],
      "text/plain": [
       "                        timestamp  converted\n",
       "group     landing_page                      \n",
       "control   new_page           1928       1928\n",
       "          old_page         145274     145274\n",
       "treatment new_page         145311     145311\n",
       "          old_page           1965       1965"
      ]
     },
     "execution_count": 40,
     "metadata": {},
     "output_type": "execute_result"
    }
   ],
   "source": [
    "df_test.groupby(['group','landing_page']).count()"
   ]
  },
  {
   "cell_type": "markdown",
   "id": "0fb13bf4-052d-4e55-a3e6-0c29280aad34",
   "metadata": {},
   "source": [
    "According to the rules of the A/B test, the control group should receive only \"old page\", while the test group receives \"new page\" only. \n",
    "Since there is no additional information to determine which users are misclassified and correct them, the incorrect data is removed from the analysis."
   ]
  },
  {
   "cell_type": "code",
   "execution_count": 54,
   "id": "99b89877-79a9-4a81-b867-34120601565e",
   "metadata": {},
   "outputs": [],
   "source": [
    "df_clean = df_test.loc[(df_test.group == 'control') & (df_test.landing_page == 'old_page') | (df_test.group == 'treatment') & (df_test.landing_page == 'new_page')]"
   ]
  },
  {
   "cell_type": "code",
   "execution_count": 56,
   "id": "12aa0911-0c0c-4ae7-843a-43df9a2c4a8f",
   "metadata": {},
   "outputs": [
    {
     "data": {
      "text/html": [
       "<div>\n",
       "<style scoped>\n",
       "    .dataframe tbody tr th:only-of-type {\n",
       "        vertical-align: middle;\n",
       "    }\n",
       "\n",
       "    .dataframe tbody tr th {\n",
       "        vertical-align: top;\n",
       "    }\n",
       "\n",
       "    .dataframe thead th {\n",
       "        text-align: right;\n",
       "    }\n",
       "</style>\n",
       "<table border=\"1\" class=\"dataframe\">\n",
       "  <thead>\n",
       "    <tr style=\"text-align: right;\">\n",
       "      <th></th>\n",
       "      <th></th>\n",
       "      <th>timestamp</th>\n",
       "      <th>converted</th>\n",
       "    </tr>\n",
       "    <tr>\n",
       "      <th>group</th>\n",
       "      <th>landing_page</th>\n",
       "      <th></th>\n",
       "      <th></th>\n",
       "    </tr>\n",
       "  </thead>\n",
       "  <tbody>\n",
       "    <tr>\n",
       "      <th>control</th>\n",
       "      <th>old_page</th>\n",
       "      <td>145274</td>\n",
       "      <td>145274</td>\n",
       "    </tr>\n",
       "    <tr>\n",
       "      <th>treatment</th>\n",
       "      <th>new_page</th>\n",
       "      <td>145311</td>\n",
       "      <td>145311</td>\n",
       "    </tr>\n",
       "  </tbody>\n",
       "</table>\n",
       "</div>"
      ],
      "text/plain": [
       "                        timestamp  converted\n",
       "group     landing_page                      \n",
       "control   old_page         145274     145274\n",
       "treatment new_page         145311     145311"
      ]
     },
     "execution_count": 56,
     "metadata": {},
     "output_type": "execute_result"
    }
   ],
   "source": [
    "df_clean.groupby(['group','landing_page']).count()"
   ]
  },
  {
   "cell_type": "code",
   "execution_count": 62,
   "id": "6ba23340-c3f6-4b9f-898c-17f268cc8ff0",
   "metadata": {},
   "outputs": [
    {
     "data": {
      "text/plain": [
       "1"
      ]
     },
     "execution_count": 62,
     "metadata": {},
     "output_type": "execute_result"
    }
   ],
   "source": [
    "df_clean.index.duplicated().sum()"
   ]
  },
  {
   "cell_type": "code",
   "execution_count": 102,
   "id": "e495472b-533f-4928-86ce-01c30a767a0c",
   "metadata": {},
   "outputs": [
    {
     "data": {
      "text/html": [
       "<div>\n",
       "<style scoped>\n",
       "    .dataframe tbody tr th:only-of-type {\n",
       "        vertical-align: middle;\n",
       "    }\n",
       "\n",
       "    .dataframe tbody tr th {\n",
       "        vertical-align: top;\n",
       "    }\n",
       "\n",
       "    .dataframe thead th {\n",
       "        text-align: right;\n",
       "    }\n",
       "</style>\n",
       "<table border=\"1\" class=\"dataframe\">\n",
       "  <thead>\n",
       "    <tr style=\"text-align: right;\">\n",
       "      <th></th>\n",
       "      <th>timestamp</th>\n",
       "      <th>group</th>\n",
       "      <th>landing_page</th>\n",
       "      <th>converted</th>\n",
       "    </tr>\n",
       "    <tr>\n",
       "      <th>user_id</th>\n",
       "      <th></th>\n",
       "      <th></th>\n",
       "      <th></th>\n",
       "      <th></th>\n",
       "    </tr>\n",
       "  </thead>\n",
       "  <tbody>\n",
       "    <tr>\n",
       "      <th>773192</th>\n",
       "      <td>2017-01-09 05:37:58.781806</td>\n",
       "      <td>treatment</td>\n",
       "      <td>new_page</td>\n",
       "      <td>0</td>\n",
       "    </tr>\n",
       "    <tr>\n",
       "      <th>773192</th>\n",
       "      <td>2017-01-14 02:55:59.590927</td>\n",
       "      <td>treatment</td>\n",
       "      <td>new_page</td>\n",
       "      <td>0</td>\n",
       "    </tr>\n",
       "  </tbody>\n",
       "</table>\n",
       "</div>"
      ],
      "text/plain": [
       "                         timestamp      group landing_page  converted\n",
       "user_id                                                              \n",
       "773192  2017-01-09 05:37:58.781806  treatment     new_page          0\n",
       "773192  2017-01-14 02:55:59.590927  treatment     new_page          0"
      ]
     },
     "execution_count": 102,
     "metadata": {},
     "output_type": "execute_result"
    }
   ],
   "source": [
    "df_clean[df_clean.index.duplicated(keep=False)]"
   ]
  },
  {
   "cell_type": "code",
   "execution_count": 103,
   "id": "3ed77608-e41d-4615-a27b-274512150d51",
   "metadata": {},
   "outputs": [],
   "source": [
    "'''Drop out duplicate user_id  '''\n",
    "\n",
    "df_clean.reset_index(inplace=True)\n",
    "df_clean.drop_duplicates(subset=['user_id'],keep='first',inplace=True)"
   ]
  },
  {
   "cell_type": "code",
   "execution_count": 124,
   "id": "bc0ea9d5-a2fb-4571-be0c-b76673b7072a",
   "metadata": {},
   "outputs": [
    {
     "data": {
      "text/plain": [
       "group      landing_page  converted\n",
       "control    old_page      0            127785\n",
       "                         1             17489\n",
       "treatment  new_page      0            128046\n",
       "                         1             17264\n",
       "dtype: int64"
      ]
     },
     "execution_count": 124,
     "metadata": {},
     "output_type": "execute_result"
    }
   ],
   "source": [
    "df_clean.groupby(['group','landing_page','converted']).size()"
   ]
  },
  {
   "cell_type": "code",
   "execution_count": 201,
   "id": "67974dba-ed66-4163-80d1-2451c5db1f99",
   "metadata": {},
   "outputs": [
    {
     "data": {
      "text/plain": [
       "<AxesSubplot:ylabel='landing_page'>"
      ]
     },
     "execution_count": 201,
     "metadata": {},
     "output_type": "execute_result"
    },
    {
     "data": {
      "image/png": "[encoded data removed]",
      "text/plain": [
       "<Figure size 432x288 with 1 Axes>"
      ]
     },
     "metadata": {},
     "output_type": "display_data"
    }
   ],
   "source": [
    "df_clean.landing_page.value_counts().plot.pie()"
   ]
  },
  {
   "cell_type": "code",
   "execution_count": 131,
   "id": "e12d69b6-1116-45c9-98e3-1d11037cf628",
   "metadata": {},
   "outputs": [
    {
     "data": {
      "text/html": [
       "<div>\n",
       "<style scoped>\n",
       "    .dataframe tbody tr th:only-of-type {\n",
       "        vertical-align: middle;\n",
       "    }\n",
       "\n",
       "    .dataframe tbody tr th {\n",
       "        vertical-align: top;\n",
       "    }\n",
       "\n",
       "    .dataframe thead th {\n",
       "        text-align: right;\n",
       "    }\n",
       "</style>\n",
       "<table border=\"1\" class=\"dataframe\">\n",
       "  <thead>\n",
       "    <tr style=\"text-align: right;\">\n",
       "      <th></th>\n",
       "      <th>converted</th>\n",
       "      <th>0</th>\n",
       "      <th>1</th>\n",
       "      <th>All</th>\n",
       "    </tr>\n",
       "    <tr>\n",
       "      <th>group</th>\n",
       "      <th>landing_page</th>\n",
       "      <th></th>\n",
       "      <th></th>\n",
       "      <th></th>\n",
       "    </tr>\n",
       "  </thead>\n",
       "  <tbody>\n",
       "    <tr>\n",
       "      <th>control</th>\n",
       "      <th>old_page</th>\n",
       "      <td>127785</td>\n",
       "      <td>17489</td>\n",
       "      <td>145274</td>\n",
       "    </tr>\n",
       "    <tr>\n",
       "      <th>treatment</th>\n",
       "      <th>new_page</th>\n",
       "      <td>128046</td>\n",
       "      <td>17264</td>\n",
       "      <td>145310</td>\n",
       "    </tr>\n",
       "    <tr>\n",
       "      <th>All</th>\n",
       "      <th></th>\n",
       "      <td>255831</td>\n",
       "      <td>34753</td>\n",
       "      <td>290584</td>\n",
       "    </tr>\n",
       "  </tbody>\n",
       "</table>\n",
       "</div>"
      ],
      "text/plain": [
       "converted                    0      1     All\n",
       "group     landing_page                       \n",
       "control   old_page      127785  17489  145274\n",
       "treatment new_page      128046  17264  145310\n",
       "All                     255831  34753  290584"
      ]
     },
     "execution_count": 131,
     "metadata": {},
     "output_type": "execute_result"
    }
   ],
   "source": [
    "''' Cross table'''\n",
    "pd.crosstab([df_clean.group,df_clean.landing_page],df_clean.converted,margins=True)"
   ]
  },
  {
   "cell_type": "code",
   "execution_count": 175,
   "id": "50c0976b-8217-4a71-92b8-f84567d36349",
   "metadata": {},
   "outputs": [
    {
     "data": {
      "image/png": "[encoded data removed]",
      "text/plain": [
       "<Figure size 720x504 with 1 Axes>"
      ]
     },
     "metadata": {
      "needs_background": "light"
     },
     "output_type": "display_data"
    }
   ],
   "source": [
    "fig = pd.crosstab([df_clean.group,df_clean.landing_page],df_clean.converted).plot.bar(figsize=(10,7),rot=0,fontsize=18)\n",
    "fig.legend(title='converted',title_fontsize=18,fontsize=18)\n",
    "fig.xaxis.label.set_size(20)"
   ]
  },
  {
   "cell_type": "code",
   "execution_count": 198,
   "id": "9dd6f6ef-25de-4067-baf5-91957f757891",
   "metadata": {},
   "outputs": [
    {
     "data": {
      "text/html": [
       "<div>\n",
       "<style scoped>\n",
       "    .dataframe tbody tr th:only-of-type {\n",
       "        vertical-align: middle;\n",
       "    }\n",
       "\n",
       "    .dataframe tbody tr th {\n",
       "        vertical-align: top;\n",
       "    }\n",
       "\n",
       "    .dataframe thead th {\n",
       "        text-align: right;\n",
       "    }\n",
       "</style>\n",
       "<table border=\"1\" class=\"dataframe\">\n",
       "  <thead>\n",
       "    <tr style=\"text-align: right;\">\n",
       "      <th></th>\n",
       "      <th>converted</th>\n",
       "      <th>0</th>\n",
       "      <th>1</th>\n",
       "    </tr>\n",
       "    <tr>\n",
       "      <th>group</th>\n",
       "      <th>landing_page</th>\n",
       "      <th></th>\n",
       "      <th></th>\n",
       "    </tr>\n",
       "  </thead>\n",
       "  <tbody>\n",
       "    <tr>\n",
       "      <th>control</th>\n",
       "      <th>old_page</th>\n",
       "      <td>127785</td>\n",
       "      <td>17489</td>\n",
       "    </tr>\n",
       "    <tr>\n",
       "      <th>treatment</th>\n",
       "      <th>new_page</th>\n",
       "      <td>128046</td>\n",
       "      <td>17264</td>\n",
       "    </tr>\n",
       "  </tbody>\n",
       "</table>\n",
       "</div>"
      ],
      "text/plain": [
       "converted                    0      1\n",
       "group     landing_page               \n",
       "control   old_page      127785  17489\n",
       "treatment new_page      128046  17264"
      ]
     },
     "execution_count": 198,
     "metadata": {},
     "output_type": "execute_result"
    }
   ],
   "source": [
    "pd.pivot_table(data=df_clean,index=['group','landing_page'],columns=['converted'],aggfunc='size',)"
   ]
  },
  {
   "cell_type": "code",
   "execution_count": 113,
   "id": "ef857b7c-33fd-4667-aa28-b915b3ff4ed5",
   "metadata": {},
   "outputs": [
    {
     "data": {
      "text/html": [
       "<div>\n",
       "<style scoped>\n",
       "    .dataframe tbody tr th:only-of-type {\n",
       "        vertical-align: middle;\n",
       "    }\n",
       "\n",
       "    .dataframe tbody tr th {\n",
       "        vertical-align: top;\n",
       "    }\n",
       "\n",
       "    .dataframe thead th {\n",
       "        text-align: right;\n",
       "    }\n",
       "</style>\n",
       "<table border=\"1\" class=\"dataframe\">\n",
       "  <thead>\n",
       "    <tr style=\"text-align: right;\">\n",
       "      <th></th>\n",
       "      <th>min</th>\n",
       "      <th>max</th>\n",
       "    </tr>\n",
       "    <tr>\n",
       "      <th>group</th>\n",
       "      <th></th>\n",
       "      <th></th>\n",
       "    </tr>\n",
       "  </thead>\n",
       "  <tbody>\n",
       "    <tr>\n",
       "      <th>control</th>\n",
       "      <td>2017-01-02 13:42:15.234051</td>\n",
       "      <td>2017-01-24 13:41:54.460509</td>\n",
       "    </tr>\n",
       "    <tr>\n",
       "      <th>treatment</th>\n",
       "      <td>2017-01-02 13:42:05.378582</td>\n",
       "      <td>2017-01-24 13:41:44.097174</td>\n",
       "    </tr>\n",
       "  </tbody>\n",
       "</table>\n",
       "</div>"
      ],
      "text/plain": [
       "                                 min                        max\n",
       "group                                                          \n",
       "control   2017-01-02 13:42:15.234051 2017-01-24 13:41:54.460509\n",
       "treatment 2017-01-02 13:42:05.378582 2017-01-24 13:41:44.097174"
      ]
     },
     "execution_count": 113,
     "metadata": {},
     "output_type": "execute_result"
    }
   ],
   "source": [
    "df_clean.groupby('group').timestamp.agg([min,max])"
   ]
  },
  {
   "cell_type": "markdown",
   "id": "ef50bd56-b128-4ead-baaa-d2029073bea3",
   "metadata": {},
   "source": [
    "This shows that investigation was conducted at the same time for 2 groups as it should be. "
   ]
  },
  {
   "cell_type": "code",
   "execution_count": 217,
   "id": "8fed4ed6-1bcc-4a7c-95bd-e6f3054e564b",
   "metadata": {},
   "outputs": [],
   "source": [
    "res = sp.stats.chi2_contingency(np.array(pd.crosstab([df_clean.group,df_clean.landing_page],df_clean.converted)),correction=False)"
   ]
  },
  {
   "cell_type": "code",
   "execution_count": 219,
   "id": "e49734f2-5d8b-4860-a27c-5a19ebed96b3",
   "metadata": {},
   "outputs": [
    {
     "data": {
      "text/plain": [
       "(1.7185222540121272,\n",
       " 0.18988337448194853,\n",
       " 1,\n",
       " array([[127899.65274757,  17374.34725243],\n",
       "        [127931.34725243,  17378.65274757]]))"
      ]
     },
     "execution_count": 219,
     "metadata": {},
     "output_type": "execute_result"
    }
   ],
   "source": [
    "res"
   ]
  },
  {
   "cell_type": "code",
   "execution_count": 241,
   "id": "5fdff844-9994-4163-bb7d-cfb23092ee7d",
   "metadata": {},
   "outputs": [
    {
     "data": {
      "text/plain": [
       "(0.9851226640350362, 0.19047706773051692)"
      ]
     },
     "execution_count": 241,
     "metadata": {},
     "output_type": "execute_result"
    }
   ],
   "source": [
    "sp.stats.fisher_exact(np.array(pd.crosstab([df_clean.group,df_clean.landing_page],df_clean.converted)))"
   ]
  },
  {
   "cell_type": "code",
   "execution_count": 238,
   "id": "3089b730-4cf8-43a2-bd53-084b19a54287",
   "metadata": {},
   "outputs": [
    {
     "data": {
      "text/plain": [
       "[2, 2]"
      ]
     },
     "execution_count": 238,
     "metadata": {},
     "output_type": "execute_result"
    }
   ],
   "source": [
    "crosstab = np.array(pd.crosstab([df_clean.group,df_clean.landing_page],df_clean.converted,margins=True))\n",
    "\n",
    "[i-1 for i in list(crosstab.shape)]"
   ]
  },
  {
   "cell_type": "code",
   "execution_count": 240,
   "id": "ab654aec-ccac-4926-8f82-b7069153b83b",
   "metadata": {},
   "outputs": [
    {
     "data": {
      "text/plain": [
       "(1.7185222540121272,\n",
       " array([[127899.65274757,  17374.34725243],\n",
       "        [127931.34725243,  17378.65274757]]))"
      ]
     },
     "execution_count": 240,
     "metadata": {},
     "output_type": "execute_result"
    }
   ],
   "source": [
    "def chi2(tab):\n",
    "    res = 0 \n",
    "    exp = np.zeros([x - 1 for x in list(tab.shape)])\n",
    "    for i in range(tab.shape[0]-1):\n",
    "        for j in range(tab.shape[1]-1):\n",
    "            \n",
    "            exp[i,j] = tab[i,tab.shape[1]-1] * tab[tab.shape[0]-1,j] / tab[tab.shape[0]-1,tab.shape[1]-1]\n",
    "            res += (tab[i,j] - exp[i,j])**2 / exp[i,j]\n",
    "            \n",
    "    return res, exp\n",
    "\n",
    "            \n",
    "chi2(crosstab)\n",
    "    "
   ]
  },
  {
   "cell_type": "code",
   "execution_count": null,
   "id": "c1a21d46-6b89-4116-891d-7b2f01cb7ffe",
   "metadata": {},
   "outputs": [],
   "source": []
  }
 ],
 "metadata": {
  "kernelspec": {
   "display_name": "Python 3 (ipykernel)",
   "language": "python",
   "name": "python3"
  },
  "language_info": {
   "codemirror_mode": {
    "name": "ipython",
    "version": 3
   },
   "file_extension": ".py",
   "mimetype": "text/x-python",
   "name": "python",
   "nbconvert_exporter": "python",
   "pygments_lexer": "ipython3",
   "version": "3.7.11"
  }
 },
 "nbformat": 4,
 "nbformat_minor": 5
}
